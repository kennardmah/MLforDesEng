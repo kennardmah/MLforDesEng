{
 "cells": [
  {
   "cell_type": "markdown",
   "id": "2255cd84",
   "metadata": {},
   "source": [
    "#### Objective\n",
    "\n",
    "- Write a convolutional neural network for the MNIST Database\n",
    "- Unlike the previous lab, we are going to make use of convolutional networks instead of linear to classify the inputs\n",
    "\n",
    "![](img/lab4/convolutionalnetwork.png)"
   ]
  },
  {
   "cell_type": "code",
   "execution_count": 1,
   "id": "85c71e67",
   "metadata": {},
   "outputs": [],
   "source": [
    "import torch\n",
    "from torchvision import transforms, datasets\n",
    "import torch.nn as nn\n",
    "import torch.nn.functional as F\n",
    "import torch.optim as optim\n",
    "\n",
    "train = datasets.MNIST(\"\", train = True, download = True, transform = transforms.Compose([transforms.ToTensor()]))\n",
    "test = datasets.MNIST(\"\", train = False, download = True, transform = transforms.Compose([transforms.ToTensor()]))\n",
    "\n",
    "trainset = torch.utils.data.DataLoader(train, batch_size = 10, shuffle = True)\n",
    "testset = torch.utils.data.DataLoader(test, batch_size = 10, shuffle = True)"
   ]
  },
  {
   "cell_type": "code",
   "execution_count": 2,
   "id": "b2190492",
   "metadata": {},
   "outputs": [],
   "source": [
    "class Net(nn.Module):\n",
    "    def __init__(self):\n",
    "        super().__init__()\n",
    "        self.conv1 = nn.Conv2d(1, 32, 5, padding=2) # first two represents dimension, and 5 represents dimension of convolution kernel\n",
    "        self.conv2 = nn.Conv2d(32, 64, 5, padding=2) # convolution kernel is 5x5 in this example, why is padding = 2?\n",
    "        self.fc1 = nn.Linear(64*7*7, 128)\n",
    "        self.fc2 = nn.Linear(128, 10)\n",
    "\n",
    "    def convs(self, x):\n",
    "        x = F.max_pool2d(F.relu(self.conv1(x)), (2,2)) # 2x2 patch\n",
    "        x = F.max_pool2d(F.relu(self.conv2(x)), (2,2))\n",
    "        return x\n",
    "\n",
    "    def forward(self, x):\n",
    "        x = self.convs(x)\n",
    "        x = x.view(-1, 64*7*7)\n",
    "        x = F.relu(self.fc1(x))\n",
    "        x = self.fc2(x)\n",
    "\n",
    "        # computes to softmax function of given input\n",
    "        return F.softmax(x, dim = 1)\n",
    "\n",
    "# create instance of neural network\n",
    "net = Net()"
   ]
  },
  {
   "cell_type": "code",
   "execution_count": 3,
   "id": "b9b225ab",
   "metadata": {},
   "outputs": [],
   "source": [
    "# sets up optimisation method for backpropagation alg\n",
    "# optimiser = optim.SGD(net.parameters(), lr = 0.001) # SGD (Stoachastic Gradient Descent)\n",
    "optimiser = optim.Adam(net.parameters(), lr = 0.001) # Adam (increases Accuracy drastically)"
   ]
  },
  {
   "cell_type": "code",
   "execution_count": null,
   "id": "fdc99f89",
   "metadata": {},
   "outputs": [],
   "source": [
    "Epochs = 3 # number of training epochs\n",
    "\n",
    "# iterate over the training data (trainset)\n",
    "for epoch in range(Epochs):\n",
    "    for data in trainset:\n",
    "        X, y = data # assign input (X) and labels (y)\n",
    "        net.zero_grad() # set gradiant stored to zero to reset gradient value for each iteration\n",
    "        output = net.forward(X) # change as the network is given a matrix instead of a vector for input\n",
    "        loss = F.nll_loss(output, y) # loss function (cross-entropy sicne we are working w classifier)\n",
    "        loss.backward() # compute gradient wrt loss function over each parameter of the network (must set gradient to 0, line 48)\n",
    "        optimiser.step() # update parameters of the network according to the optimisation alg and gradient stored within each variable\n",
    "\n",
    "correct, total = 0, 0\n",
    "\n",
    "with torch.no_grad():\n",
    "    for data in testset:\n",
    "        X, y = data\n",
    "        output = net.forward(X)\n",
    "        for idx, i in enumerate(output):\n",
    "            if torch.argmax(i) == y[idx]:\n",
    "                correct += 1\n",
    "            total += 1\n",
    "print(\"Accuracy: \", round(correct/total, 3))"
   ]
  },
  {
   "cell_type": "markdown",
   "id": "bb24ff38",
   "metadata": {},
   "source": [
    "### Possible Questions\n",
    "##### Why does it take significantly more time?\n",
    "It takes longer time to compute an epoch, likely due to the convolution operation that is performed on the input data, involving a lot of matrix multiplications.\n",
    "##### Changing the number of neurons?\n",
    "\n",
    "##### Changing the optimiser and activation functions?\n",
    "\n",
    "##### Modifying the pooling layer?\n",
    "\n",
    "##### Modifying the dimensions of the convolutional kernel (and padding)?\n",
    "\n",
    "###### Is it reasonable to expect to reach 100% classification accuracy?"
   ]
  }
 ],
 "metadata": {
  "kernelspec": {
   "display_name": "Python 3 (ipykernel)",
   "language": "python",
   "name": "python3"
  },
  "language_info": {
   "codemirror_mode": {
    "name": "ipython",
    "version": 3
   },
   "file_extension": ".py",
   "mimetype": "text/x-python",
   "name": "python",
   "nbconvert_exporter": "python",
   "pygments_lexer": "ipython3",
   "version": "3.9.12"
  }
 },
 "nbformat": 4,
 "nbformat_minor": 5
}
