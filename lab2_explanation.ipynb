{
 "cells": [
  {
   "cell_type": "code",
   "execution_count": 1,
   "id": "f61eeb55",
   "metadata": {},
   "outputs": [],
   "source": [
    "import numpy as np\n",
    "import matplotlib.pyplot as plt\n",
    "\n",
    "W1 = np.random.randn(3,2) \n",
    "B1 = np.random.randn(3)\n",
    "W2 = np.random.randn(1,3)\n",
    "B2 = np.random.randn(1)\n",
    "\n",
    "# training data (X is the input values and Z is the expected output for XOR)\n",
    "X = np.random.randint(2, size=[50,2])\n",
    "Z = np.array([X[:,0]^X[:, 1]]).T # shown as y_hat in derivation"
   ]
  },
  {
   "cell_type": "markdown",
   "id": "8aa54fc3",
   "metadata": {},
   "source": [
    "### why different dimensions of weights?\n",
    "\n",
    "depends on the nodes \n",
    "(i.e. for weights\n",
    "1st layer (hidden) is (3,2) because it connects 3 sigmoid nodes for 2 inputs (1 or 0)\n",
    "2nd layer is (1,3) as it is reduced to 1 sigmoid node for the 3 inputs (outputs from prior layer)\n",
    "for bias, B1 has 3 numbers for its corresponding weights and B2 has 1 for the second layer (shown in diagram below)\n",
    ")"
   ]
  },
  {
   "cell_type": "code",
   "execution_count": 2,
   "id": "0190657c",
   "metadata": {},
   "outputs": [],
   "source": [
    "# sigmoid function\n",
    "def sigm(X, W, B):\n",
    "    M = 1/(1+np.exp(-(X.dot(W.T)+B)))\n",
    "    return M\n",
    "\n",
    "# feed forward equation\n",
    "def Forward(X, W1, B1, W2, B2):\n",
    "    # first layer (hidden layer)\n",
    "    H = sigm(X,W1,B1)\n",
    "    # second layer (final layer)\n",
    "    Y = sigm(H,W2,B2)\n",
    "    return Y, H"
   ]
  },
  {
   "cell_type": "markdown",
   "id": "d17c352e",
   "metadata": {},
   "source": [
    "![](img/lab2/diagram.jpeg)"
   ]
  },
  {
   "cell_type": "code",
   "execution_count": 3,
   "id": "2df1f546",
   "metadata": {},
   "outputs": [],
   "source": [
    "def diff_B2(Z, Y): # Z (Actual Output), Y (Calculated Output)\n",
    "    dB = (Z-Y)*Y*(1-Y)\n",
    "    return dB.sum(axis=0)\n",
    "\n",
    "def diff_W2(H, Z, Y): # H (Hidden Layer Output, Input for this layer)\n",
    "    dW = (Z-Y)*Y*(1-Y)\n",
    "    return H.T.dot(dW)\n",
    "\n",
    "def diff_B1(Z, Y, W2, H): # W2 (Weights)\n",
    "    return ((Z-Y).dot(W2)*Y*(1-Y)*H*(1-H)).sum(axis=0)\n",
    "\n",
    "def diff_W1(X, H, Z, Y, W2): # X (Initial Input)\n",
    "    dZ = (Z-Y).dot(W2)*Y*(1-Y)*H*(1-H)\n",
    "    return X.T.dot(dZ)"
   ]
  },
  {
   "cell_type": "markdown",
   "id": "b4b0721a",
   "metadata": {},
   "source": [
    "### how to derive diff_w2, diff_w1, diff_b2, diff_b1?\n",
    "![](img/lab2/derivation.jpeg)"
   ]
  },
  {
   "cell_type": "code",
   "execution_count": 13,
   "id": "ea9a821d",
   "metadata": {
    "scrolled": true
   },
   "outputs": [
    {
     "data": {
      "image/png": "[encoded data removed]",
      "text/plain": [
       "<Figure size 432x288 with 1 Axes>"
      ]
     },
     "metadata": {
      "needs_background": "light"
     },
     "output_type": "display_data"
    }
   ],
   "source": [
    "learning_rate_set = [0.001, 0.01, 0.1, 1] # test with multiple learning rates\n",
    "epoch_val = 10000 # epoch is the number of iterations\n",
    "leg = [] # initialise empty legend\n",
    "for i in range(len(learning_rate_set)):\n",
    "    \n",
    "    # select learning rate\n",
    "    learning_rate = learning_rate_set[i]\n",
    "    \n",
    "    # add to legend for plotting\n",
    "    leg.append(learning_rate)\n",
    "    \n",
    "    # resetting weights and biases to compare with different learning rates\n",
    "    W1 = np.random.randn(3,2)\n",
    "    B1 = np.random.randn(3)\n",
    "    W2 = np.random.randn(1,3)\n",
    "    B2 = np.random.randn(1)\n",
    "    \n",
    "    Accuracy_set = [] # initialise empty set for plotting\n",
    "    \n",
    "    # print('================= Learning Rate: ', learning_rate, ' ===========================')\n",
    "    \n",
    "    for epoch in range(epoch_val):\n",
    "        Y, H = Forward(X, W1, B1, W2, B2) # run feedforward equation to get output of hidden layer and overall\n",
    "        \n",
    "        # backpropagation\n",
    "        W2 += learning_rate * diff_W2(H,Z,Y).T\n",
    "        B2 += learning_rate * diff_B2(Z,Y)\n",
    "        W1 += learning_rate * diff_W1(X,H,Z,Y,W2).T\n",
    "        B1 += learning_rate * diff_B1(Z, Y, W2, H)\n",
    "        \n",
    "        if not epoch %50: # print calculated accuracy every 50 iterations\n",
    "            Accuracy = 1 - np.mean((Z-Y)**2)\n",
    "            # print('Epoch: ', epoch, ' Accuracy: ', Accuracy)\n",
    "            \n",
    "        # plotting    \n",
    "        Accuracy_set.append(1-np.mean((Z-Y)**2))\n",
    "    plt.plot(range(epoch_val), Accuracy_set)\n",
    "plt.xlabel(\"Epoch\")\n",
    "plt.ylabel(\"Accuracy\")\n",
    "plt.legend(leg)\n",
    "plt.show()"
   ]
  },
  {
   "cell_type": "markdown",
   "id": "bc80340b",
   "metadata": {},
   "source": [
    "### Softmax Function\n",
    "\n",
    "![](img/lab2/softmax.jpeg)\n",
    "\n",
    "The softmax function is used for classification functions, rescaling the output to range [0,1] with the sum as 1, so that the output is set as a probability.\n",
    "\n",
    "Softmax is commonly used as the final activation function for multi-class classification tasks, the predicted class is then the one with the highest probability in the output distribution. It is used in accordance with the cross-entropy function.\n",
    "\n",
    "### Cross-Entropy Function\n",
    "\n",
    "![](img/lab2/crossentropy.jpeg)\n",
    "\n",
    "Loss function alongside the softmax. Measures the performance of a classification model, whose output is a probability value between 0 and 1. A perfect model would have a loss of 0."
   ]
  },
  {
   "cell_type": "markdown",
   "id": "52ab65f0",
   "metadata": {},
   "source": [
    "### Lab Oral Preparation\n",
    "\n",
    "##### Question ) Why does the learning rate need to be tuned? What are the consequences of having it too high/low?\n",
    "\n",
    "The learning rate is a hyperparameter, used to determine the magnitude of the step when updating the model's parameters, weights and biases.\n",
    "\n",
    "When the learning rate is too high, it can oscillate around the local minimum, and overshoot the optimal value.\n",
    "When the learning rate is too low, the value can 'get stuck' in the local optimum, and never converge at the optimal value. Furthermore, the epoch would have to be higher even if the value doesn't get stuck to reach the optimal value.\n",
    "\n",
    "##### Question ) What is Gradient Descent?\n",
    "##### Question ) Explain the Operation of the Following Code"
   ]
  }
 ],
 "metadata": {
  "kernelspec": {
   "display_name": "Python 3 (ipykernel)",
   "language": "python",
   "name": "python3"
  },
  "language_info": {
   "codemirror_mode": {
    "name": "ipython",
    "version": 3
   },
   "file_extension": ".py",
   "mimetype": "text/x-python",
   "name": "python",
   "nbconvert_exporter": "python",
   "pygments_lexer": "ipython3",
   "version": "3.9.12"
  }
 },
 "nbformat": 4,
 "nbformat_minor": 5
}
